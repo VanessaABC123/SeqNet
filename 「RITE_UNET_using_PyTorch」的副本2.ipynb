{
  "metadata": {
    "kernelspec": {
      "language": "python",
      "display_name": "Python 3",
      "name": "python3"
    },
    "language_info": {
      "pygments_lexer": "ipython3",
      "nbconvert_exporter": "python",
      "version": "3.6.4",
      "file_extension": ".py",
      "codemirror_mode": {
        "name": "ipython",
        "version": 3
      },
      "name": "python",
      "mimetype": "text/x-python"
    },
    "colab": {
      "provenance": [],
      "include_colab_link": true
    }
  },
  "nbformat_minor": 0,
  "nbformat": 4,
  "cells": [
    {
      "cell_type": "markdown",
      "metadata": {
        "id": "view-in-github",
        "colab_type": "text"
      },
      "source": [
        "<a href=\"https://colab.research.google.com/github/VanessaABC123/SeqNet/blob/master/%E3%80%8CRITE_UNET_using_PyTorch%E3%80%8D%E7%9A%84%E5%89%AF%E6%9C%AC2.ipynb\" target=\"_parent\"><img src=\"https://colab.research.google.com/assets/colab-badge.svg\" alt=\"Open In Colab\"/></a>"
      ]
    },
    {
      "source": [
        "\n",
        "# IMPORTANT: RUN THIS CELL IN ORDER TO IMPORT YOUR KAGGLE DATA SOURCES\n",
        "# TO THE CORRECT LOCATION (/kaggle/input) IN YOUR NOTEBOOK,\n",
        "# THEN FEEL FREE TO DELETE THIS CELL.\n",
        "# NOTE: THIS NOTEBOOK ENVIRONMENT DIFFERS FROM KAGGLE'S PYTHON\n",
        "# ENVIRONMENT SO THERE MAY BE MISSING LIBRARIES USED BY YOUR\n",
        "# NOTEBOOK.\n",
        "\n",
        "import os\n",
        "import sys\n",
        "from tempfile import NamedTemporaryFile\n",
        "from urllib.request import urlopen\n",
        "from urllib.parse import unquote, urlparse\n",
        "from urllib.error import HTTPError\n",
        "from zipfile import ZipFile\n",
        "import tarfile\n",
        "import shutil\n",
        "\n",
        "CHUNK_SIZE = 40960\n",
        "DATA_SOURCE_MAPPING = 'ritedataset:https%3A%2F%2Fstorage.googleapis.com%2Fkaggle-data-sets%2F2137503%2F3556298%2Fbundle%2Farchive.zip%3FX-Goog-Algorithm%3DGOOG4-RSA-SHA256%26X-Goog-Credential%3Dgcp-kaggle-com%2540kaggle-161607.iam.gserviceaccount.com%252F20240911%252Fauto%252Fstorage%252Fgoog4_request%26X-Goog-Date%3D20240911T081823Z%26X-Goog-Expires%3D259200%26X-Goog-SignedHeaders%3Dhost%26X-Goog-Signature%3D7079c24e1c58f9c944f1095623cd9d98a7d197dfb9ce364158aeca3247fec57d34cecd03d61af4494f4395500c249f0edb089399f49488817024ee92b56b6181effe09d223495e5379185ab0ea1b49311e63e403dbc8096c044e41f680537034878cad26b33f248ff2e417b7af4a1a1b89b8e97806836ed1880ca60cf5110aa724762838a344a6a2ea20cab85225f8a61e2610f56a4995a6154177404541eaeeead6e31afd9c9c63147a0f4e63c36752b801e0b0369b70f8559edeb4ecbcdb202f7d4ab37cf2dde58e88252686086816e15fc63fb2fab3ff998a69e8e29ac2588e8abab29b2607e373954af182cdf7cfc959046b0bdb1fa5561e14787312fa68'\n",
        "\n",
        "KAGGLE_INPUT_PATH='/kaggle/input'\n",
        "KAGGLE_WORKING_PATH='/kaggle/working'\n",
        "KAGGLE_SYMLINK='kaggle'\n",
        "\n",
        "!umount /kaggle/input/ 2> /dev/null\n",
        "shutil.rmtree('/kaggle/input', ignore_errors=True)\n",
        "os.makedirs(KAGGLE_INPUT_PATH, 0o777, exist_ok=True)\n",
        "os.makedirs(KAGGLE_WORKING_PATH, 0o777, exist_ok=True)\n",
        "\n",
        "try:\n",
        "  os.symlink(KAGGLE_INPUT_PATH, os.path.join(\"..\", 'input'), target_is_directory=True)\n",
        "except FileExistsError:\n",
        "  pass\n",
        "try:\n",
        "  os.symlink(KAGGLE_WORKING_PATH, os.path.join(\"..\", 'working'), target_is_directory=True)\n",
        "except FileExistsError:\n",
        "  pass\n",
        "\n",
        "for data_source_mapping in DATA_SOURCE_MAPPING.split(','):\n",
        "    directory, download_url_encoded = data_source_mapping.split(':')\n",
        "    download_url = unquote(download_url_encoded)\n",
        "    filename = urlparse(download_url).path\n",
        "    destination_path = os.path.join(KAGGLE_INPUT_PATH, directory)\n",
        "    try:\n",
        "        with urlopen(download_url) as fileres, NamedTemporaryFile() as tfile:\n",
        "            total_length = fileres.headers['content-length']\n",
        "            print(f'Downloading {directory}, {total_length} bytes compressed')\n",
        "            dl = 0\n",
        "            data = fileres.read(CHUNK_SIZE)\n",
        "            while len(data) > 0:\n",
        "                dl += len(data)\n",
        "                tfile.write(data)\n",
        "                done = int(50 * dl / int(total_length))\n",
        "                sys.stdout.write(f\"\\r[{'=' * done}{' ' * (50-done)}] {dl} bytes downloaded\")\n",
        "                sys.stdout.flush()\n",
        "                data = fileres.read(CHUNK_SIZE)\n",
        "            if filename.endswith('.zip'):\n",
        "              with ZipFile(tfile) as zfile:\n",
        "                zfile.extractall(destination_path)\n",
        "            else:\n",
        "              with tarfile.open(tfile.name) as tarfile:\n",
        "                tarfile.extractall(destination_path)\n",
        "            print(f'\\nDownloaded and uncompressed: {directory}')\n",
        "    except HTTPError as e:\n",
        "        print(f'Failed to load (likely expired) {download_url} to path {destination_path}')\n",
        "        continue\n",
        "    except OSError as e:\n",
        "        print(f'Failed to load {download_url} to path {destination_path}')\n",
        "        continue\n",
        "\n",
        "print('Data source import complete.')\n"
      ],
      "metadata": {
        "id": "5FETUQnzKZWb",
        "colab": {
          "base_uri": "https://localhost:8080/"
        },
        "outputId": "6d9cdb9c-e604-47c1-a450-4920ac80ed3f"
      },
      "cell_type": "code",
      "outputs": [
        {
          "output_type": "stream",
          "name": "stdout",
          "text": [
            "Downloading ritedataset, 35212627 bytes compressed\n",
            "[==================================================] 35212627 bytes downloaded\n",
            "Downloaded and uncompressed: ritedataset\n",
            "Data source import complete.\n"
          ]
        }
      ],
      "execution_count": 3
    },
    {
      "cell_type": "code",
      "source": [
        "import numpy as np\n",
        "import matplotlib.pyplot as plt\n",
        "import torch\n",
        "import torch.nn as nn\n",
        "import torchvision\n",
        "import torchvision.transforms as transforms\n",
        "import os\n",
        "import glob\n",
        "from PIL import Image\n",
        "from torch.utils.data import Dataset, DataLoader\n",
        "from albumentations import HorizontalFlip, VerticalFlip, Rotate\n",
        "import tqdm\n",
        "import torch.nn.functional as F\n",
        "import matplotlib.image as mpimg"
      ],
      "metadata": {
        "_uuid": "8f2839f25d086af736a60e9eeb907d3b93b6e0e5",
        "_cell_guid": "b1076dfc-b9ad-4769-8c92-a6c4dae69d19",
        "execution": {
          "iopub.status.busy": "2022-05-07T14:36:34.962497Z",
          "iopub.execute_input": "2022-05-07T14:36:34.962785Z",
          "iopub.status.idle": "2022-05-07T14:36:38.845234Z",
          "shell.execute_reply.started": "2022-05-07T14:36:34.962756Z",
          "shell.execute_reply": "2022-05-07T14:36:38.844528Z"
        },
        "trusted": true,
        "id": "NuFVyVZfKZWg"
      },
      "execution_count": 4,
      "outputs": []
    },
    {
      "cell_type": "code",
      "source": [
        "torch.manual_seed(42)\n",
        "np.random.seed(42)\n",
        "torch.cuda.manual_seed_all(42)"
      ],
      "metadata": {
        "execution": {
          "iopub.status.busy": "2022-05-07T14:36:40.400198Z",
          "iopub.execute_input": "2022-05-07T14:36:40.400551Z",
          "iopub.status.idle": "2022-05-07T14:36:40.412598Z",
          "shell.execute_reply.started": "2022-05-07T14:36:40.40051Z",
          "shell.execute_reply": "2022-05-07T14:36:40.411667Z"
        },
        "trusted": true,
        "id": "ANgvLe2AKZWh"
      },
      "execution_count": 5,
      "outputs": []
    },
    {
      "cell_type": "code",
      "source": [
        "class conv(nn.Module):\n",
        "    def __init__(self, in_channels, out_channels):\n",
        "        super().__init__()\n",
        "\n",
        "        self.conv1 = nn.Conv2d(in_channels, out_channels, kernel_size=3, padding=1)\n",
        "        self.bn1 = nn.BatchNorm2d(out_channels)\n",
        "\n",
        "        self.conv2 = nn.Conv2d(out_channels, out_channels, kernel_size=3, padding=1)\n",
        "        self.bn2 = nn.BatchNorm2d(out_channels)\n",
        "\n",
        "        self.relu = nn.ReLU()\n",
        "\n",
        "    def forward(self, images):\n",
        "        x = self.conv1(images)\n",
        "        x = self.bn1(x)\n",
        "        x = self.relu(x)\n",
        "\n",
        "        x = self.conv2(x)\n",
        "        x = self.bn2(x)\n",
        "        x = self.relu(x)\n",
        "\n",
        "        return x\n"
      ],
      "metadata": {
        "execution": {
          "iopub.status.busy": "2022-05-07T14:36:41.258201Z",
          "iopub.execute_input": "2022-05-07T14:36:41.258534Z",
          "iopub.status.idle": "2022-05-07T14:36:41.266406Z",
          "shell.execute_reply.started": "2022-05-07T14:36:41.258496Z",
          "shell.execute_reply": "2022-05-07T14:36:41.265519Z"
        },
        "trusted": true,
        "id": "vSExMFHdKZWh"
      },
      "execution_count": 6,
      "outputs": []
    },
    {
      "cell_type": "code",
      "source": [
        "class encoder(nn.Module):\n",
        "    def __init__(self, in_channels, out_channels):\n",
        "        super().__init__()\n",
        "\n",
        "        self.conv = conv(in_channels, out_channels)\n",
        "        self.pool = nn.MaxPool2d((2,2))\n",
        "\n",
        "    def forward(self, images):\n",
        "        x = self.conv(images)\n",
        "        p = self.pool(x)\n",
        "\n",
        "        return x, p"
      ],
      "metadata": {
        "execution": {
          "iopub.status.busy": "2022-05-07T14:36:41.812865Z",
          "iopub.execute_input": "2022-05-07T14:36:41.813133Z",
          "iopub.status.idle": "2022-05-07T14:36:41.818993Z",
          "shell.execute_reply.started": "2022-05-07T14:36:41.813103Z",
          "shell.execute_reply": "2022-05-07T14:36:41.818033Z"
        },
        "trusted": true,
        "id": "IRcGk48CKZWi"
      },
      "execution_count": 7,
      "outputs": []
    },
    {
      "cell_type": "code",
      "source": [
        "class decoder(nn.Module):\n",
        "    def __init__(self, in_channels, out_channels):\n",
        "        super().__init__()\n",
        "\n",
        "        self.upconv = nn.ConvTranspose2d(in_channels, out_channels, kernel_size=2, stride=2, padding=0)\n",
        "        self.conv = conv(out_channels * 2, out_channels)\n",
        "\n",
        "    def forward(self, images, prev):\n",
        "        x = self.upconv(images)\n",
        "        x = torch.cat([x, prev], axis=1)\n",
        "        x = self.conv(x)\n",
        "\n",
        "        return x\n"
      ],
      "metadata": {
        "execution": {
          "iopub.status.busy": "2022-05-07T14:36:42.241596Z",
          "iopub.execute_input": "2022-05-07T14:36:42.241998Z",
          "iopub.status.idle": "2022-05-07T14:36:42.248435Z",
          "shell.execute_reply.started": "2022-05-07T14:36:42.241963Z",
          "shell.execute_reply": "2022-05-07T14:36:42.247508Z"
        },
        "trusted": true,
        "id": "68K0p-3SKZWi"
      },
      "execution_count": 8,
      "outputs": []
    },
    {
      "cell_type": "code",
      "source": [
        "class UNet(nn.Module):\n",
        "    def __init__(self):\n",
        "        super().__init__()\n",
        "\n",
        "        self.e1 = encoder(3, 64)\n",
        "        self.e2 = encoder(64, 128)\n",
        "        self.e3 = encoder(128, 256)\n",
        "        self.e4 = encoder(256, 512)\n",
        "\n",
        "        self.b = conv(512, 1024)\n",
        "\n",
        "        self.d1 = decoder(1024, 512)\n",
        "        self.d2 = decoder(512, 256)\n",
        "        self.d3 = decoder(256, 128)\n",
        "        self.d4 = decoder(128, 64)\n",
        "\n",
        "        self.output = nn.Conv2d(64, 1, kernel_size=1, padding=0)\n",
        "\n",
        "    def forward(self, images):\n",
        "        x1, p1 = self.e1(images)\n",
        "        x2, p2 = self.e2(p1)\n",
        "        x3, p3 = self.e3(p2)\n",
        "        x4, p4 = self.e4(p3)\n",
        "\n",
        "        b = self.b(p4)\n",
        "\n",
        "        d1 = self.d1(b, x4)\n",
        "        d2 = self.d2(d1, x3)\n",
        "        d3 = self.d3(d2, x2)\n",
        "        d4 = self.d4(d3, x1)\n",
        "\n",
        "        output_mask = torch.sigmoid(self.output(d4))\n",
        "\n",
        "        return output_mask"
      ],
      "metadata": {
        "execution": {
          "iopub.status.busy": "2022-05-07T14:36:42.731792Z",
          "iopub.execute_input": "2022-05-07T14:36:42.732167Z",
          "iopub.status.idle": "2022-05-07T14:36:42.74303Z",
          "shell.execute_reply.started": "2022-05-07T14:36:42.732129Z",
          "shell.execute_reply": "2022-05-07T14:36:42.740637Z"
        },
        "trusted": true,
        "id": "IegQTzuJKZWj"
      },
      "execution_count": 9,
      "outputs": []
    },
    {
      "cell_type": "code",
      "source": [
        "class LoadData(Dataset):\n",
        "    def __init__(self, images_path, masks_path):\n",
        "        super().__init__()\n",
        "\n",
        "        self.images_path = images_path\n",
        "        self.masks_path = masks_path\n",
        "        self.len = len(images_path)\n",
        "\n",
        "    def __getitem__(self, idx):\n",
        "        img = Image.open(self.images_path[idx])\n",
        "        img = np.transpose(img, (2, 0, 1))\n",
        "        img = img/255.0\n",
        "        img = torch.tensor(img)\n",
        "\n",
        "        mask = Image.open(self.masks_path[idx]).convert('L')\n",
        "        mask = np.expand_dims(mask, axis=0)\n",
        "        mask = mask/255.0\n",
        "        mask = torch.tensor(mask)\n",
        "\n",
        "        return img, mask\n",
        "\n",
        "    def __len__(self):\n",
        "        return self.len"
      ],
      "metadata": {
        "execution": {
          "iopub.status.busy": "2022-05-07T14:36:43.313795Z",
          "iopub.execute_input": "2022-05-07T14:36:43.314056Z",
          "iopub.status.idle": "2022-05-07T14:36:43.321303Z",
          "shell.execute_reply.started": "2022-05-07T14:36:43.314028Z",
          "shell.execute_reply": "2022-05-07T14:36:43.32062Z"
        },
        "trusted": true,
        "id": "owh3PNliKZWj"
      },
      "execution_count": 10,
      "outputs": []
    },
    {
      "cell_type": "code",
      "source": [
        "train_X = sorted(glob.glob('../input/ritedataset/train/images/*'))\n",
        "train_y = sorted(glob.glob('../input/ritedataset/train/masks/*'))\n",
        "\n",
        "test_X = sorted(glob.glob('../input/ritedataset/test/images/*'))\n",
        "test_y = sorted(glob.glob('../input/ritedataset/test/masks/*'))\n",
        "\n",
        "valid_X = sorted(glob.glob('../input/ritedataset/validation/images/*'))\n",
        "valid_y = sorted(glob.glob('../input/ritedataset/validation/masks/*'))"
      ],
      "metadata": {
        "execution": {
          "iopub.status.busy": "2022-05-07T14:36:45.8688Z",
          "iopub.execute_input": "2022-05-07T14:36:45.869312Z",
          "iopub.status.idle": "2022-05-07T14:36:45.922172Z",
          "shell.execute_reply.started": "2022-05-07T14:36:45.869258Z",
          "shell.execute_reply": "2022-05-07T14:36:45.921483Z"
        },
        "trusted": true,
        "id": "5Vjjp657KZWk"
      },
      "execution_count": 11,
      "outputs": []
    },
    {
      "cell_type": "code",
      "source": [
        "len(test_X)"
      ],
      "metadata": {
        "execution": {
          "iopub.status.busy": "2022-05-07T14:36:46.847569Z",
          "iopub.execute_input": "2022-05-07T14:36:46.847965Z",
          "iopub.status.idle": "2022-05-07T14:36:46.855317Z",
          "shell.execute_reply.started": "2022-05-07T14:36:46.84793Z",
          "shell.execute_reply": "2022-05-07T14:36:46.854588Z"
        },
        "trusted": true,
        "id": "uJVKJhKiKZWl",
        "colab": {
          "base_uri": "https://localhost:8080/"
        },
        "outputId": "1f341d95-b888-4539-9b40-dbe1913150f2"
      },
      "execution_count": 12,
      "outputs": [
        {
          "output_type": "execute_result",
          "data": {
            "text/plain": [
              "10"
            ]
          },
          "metadata": {},
          "execution_count": 12
        }
      ]
    },
    {
      "cell_type": "code",
      "source": [
        "H = 512\n",
        "W = 512\n",
        "size = (H, W)\n",
        "batch_size = 2\n",
        "num_epochs = 50\n",
        "lr = 1e-4\n",
        "checkpoint_path = \"./checkpoint.pth\"\n",
        "\n",
        "train_dataset = LoadData(train_X, train_y)\n",
        "valid_dataset = LoadData(valid_X, valid_y)\n"
      ],
      "metadata": {
        "execution": {
          "iopub.status.busy": "2022-05-07T14:36:47.93521Z",
          "iopub.execute_input": "2022-05-07T14:36:47.935714Z",
          "iopub.status.idle": "2022-05-07T14:36:47.941224Z",
          "shell.execute_reply.started": "2022-05-07T14:36:47.935677Z",
          "shell.execute_reply": "2022-05-07T14:36:47.940443Z"
        },
        "trusted": true,
        "id": "D7Z1IxcFKZWl"
      },
      "execution_count": 13,
      "outputs": []
    },
    {
      "cell_type": "code",
      "source": [
        "train_loader = DataLoader(\n",
        "        dataset=train_dataset,\n",
        "        batch_size=batch_size,\n",
        "        shuffle=True,\n",
        "        num_workers=2,\n",
        ")\n",
        "\n",
        "valid_loader = DataLoader(\n",
        "        dataset=valid_dataset,\n",
        "        batch_size=batch_size,\n",
        "        shuffle=False,\n",
        "        num_workers=2,\n",
        ")"
      ],
      "metadata": {
        "execution": {
          "iopub.status.busy": "2022-05-07T14:36:50.473969Z",
          "iopub.execute_input": "2022-05-07T14:36:50.474242Z",
          "iopub.status.idle": "2022-05-07T14:36:50.479289Z",
          "shell.execute_reply.started": "2022-05-07T14:36:50.474212Z",
          "shell.execute_reply": "2022-05-07T14:36:50.478613Z"
        },
        "trusted": true,
        "id": "nxp98cxxKZWl"
      },
      "execution_count": 14,
      "outputs": []
    },
    {
      "cell_type": "code",
      "source": [
        "\n",
        "#device = torch.device('cuda')\n",
        "#model = UNet()\n",
        "#model = model.to(device)\n",
        "device = torch.device('cpu')\n",
        "model = UNet()\n",
        "model = model.to(device)"
      ],
      "metadata": {
        "execution": {
          "iopub.status.busy": "2022-05-07T14:36:51.730782Z",
          "iopub.execute_input": "2022-05-07T14:36:51.731239Z",
          "iopub.status.idle": "2022-05-07T14:36:55.037489Z",
          "shell.execute_reply.started": "2022-05-07T14:36:51.731201Z",
          "shell.execute_reply": "2022-05-07T14:36:55.036685Z"
        },
        "trusted": true,
        "id": "tkeCLvtXKZWl"
      },
      "execution_count": 15,
      "outputs": []
    },
    {
      "cell_type": "code",
      "source": [
        "class DiceBCELoss(nn.Module):\n",
        "    def __init__(self, weight=None, size_average=True):\n",
        "        super(DiceBCELoss, self).__init__()\n",
        "\n",
        "    def forward(self, inputs, targets, smooth=1):\n",
        "\n",
        "        inputs = inputs.view(-1)\n",
        "        targets = targets.view(-1)\n",
        "\n",
        "        intersection = (inputs * targets).sum()\n",
        "        dice_loss = 1 - (2.*intersection + smooth)/(inputs.sum() + targets.sum() + smooth)\n",
        "        loss = torch.nn.BCELoss()\n",
        "        BCE = loss(inputs, targets)\n",
        "        Dice_BCE = BCE + dice_loss\n",
        "\n",
        "        return Dice_BCE"
      ],
      "metadata": {
        "execution": {
          "iopub.status.busy": "2022-05-07T14:36:55.038933Z",
          "iopub.execute_input": "2022-05-07T14:36:55.039191Z",
          "iopub.status.idle": "2022-05-07T14:36:55.045255Z",
          "shell.execute_reply.started": "2022-05-07T14:36:55.039156Z",
          "shell.execute_reply": "2022-05-07T14:36:55.044639Z"
        },
        "trusted": true,
        "id": "5kiNSGdRKZWm"
      },
      "execution_count": 16,
      "outputs": []
    },
    {
      "cell_type": "code",
      "source": [
        "optimizer = torch.optim.Adam(model.parameters(), lr=lr)\n",
        "scheduler = torch.optim.lr_scheduler.ReduceLROnPlateau(optimizer, 'min', patience=5, verbose=True)\n",
        "loss_fn = DiceBCELoss()"
      ],
      "metadata": {
        "execution": {
          "iopub.status.busy": "2022-05-07T14:36:55.046284Z",
          "iopub.execute_input": "2022-05-07T14:36:55.04676Z",
          "iopub.status.idle": "2022-05-07T14:36:55.056768Z",
          "shell.execute_reply.started": "2022-05-07T14:36:55.04672Z",
          "shell.execute_reply": "2022-05-07T14:36:55.056098Z"
        },
        "trusted": true,
        "id": "LsgoLv_TKZWm",
        "colab": {
          "base_uri": "https://localhost:8080/"
        },
        "outputId": "7a379127-d497-45fb-acdb-3fb84649ca0d"
      },
      "execution_count": 17,
      "outputs": [
        {
          "output_type": "stream",
          "name": "stderr",
          "text": [
            "/usr/local/lib/python3.10/dist-packages/torch/optim/lr_scheduler.py:60: UserWarning: The verbose parameter is deprecated. Please use get_last_lr() to access the learning rate.\n",
            "  warnings.warn(\n"
          ]
        }
      ]
    },
    {
      "cell_type": "code",
      "source": [
        "def train_model(model, loader, optimizer, loss_fn, device):\n",
        "    epoch_loss = 0.0\n",
        "\n",
        "    model.train()\n",
        "    for x, y in loader:\n",
        "        x = x.to(device, dtype=torch.float32)\n",
        "        y = y.to(device, dtype=torch.float32)\n",
        "#         x,y=x.type(torch.FloatTensor),y.type(torch.FloatTensor)\n",
        "\n",
        "        optimizer.zero_grad()\n",
        "        y_pred = model(x)\n",
        "        loss = loss_fn(y_pred, y)\n",
        "        loss.backward()\n",
        "        optimizer.step()\n",
        "        epoch_loss += loss.item()\n",
        "\n",
        "    epoch_loss = epoch_loss/len(loader)\n",
        "    return epoch_loss"
      ],
      "metadata": {
        "execution": {
          "iopub.status.busy": "2022-05-07T14:36:55.868939Z",
          "iopub.execute_input": "2022-05-07T14:36:55.869207Z",
          "iopub.status.idle": "2022-05-07T14:36:55.875611Z",
          "shell.execute_reply.started": "2022-05-07T14:36:55.869177Z",
          "shell.execute_reply": "2022-05-07T14:36:55.874881Z"
        },
        "trusted": true,
        "id": "IYATaQMkKZWm"
      },
      "execution_count": 18,
      "outputs": []
    },
    {
      "cell_type": "code",
      "source": [
        "def evaluate(model, loader, loss_fn, device):\n",
        "    epoch_loss = 0.0\n",
        "\n",
        "    model.eval()\n",
        "    with torch.no_grad():\n",
        "        for x, y in loader:\n",
        "            x = x.to(device, dtype=torch.float32)\n",
        "            y = y.to(device, dtype=torch.float32)\n",
        "#             x,y=x.type(torch.DoubleTensor),y.type(torch.DoubleTensor)\n",
        "\n",
        "            y_pred = model(x)\n",
        "            loss = loss_fn(y_pred, y)\n",
        "            epoch_loss += loss.item()\n",
        "\n",
        "        epoch_loss = epoch_loss/len(loader)\n",
        "    return epoch_loss"
      ],
      "metadata": {
        "execution": {
          "iopub.status.busy": "2022-05-07T14:36:57.117903Z",
          "iopub.execute_input": "2022-05-07T14:36:57.118161Z",
          "iopub.status.idle": "2022-05-07T14:36:57.124006Z",
          "shell.execute_reply.started": "2022-05-07T14:36:57.118125Z",
          "shell.execute_reply": "2022-05-07T14:36:57.123213Z"
        },
        "trusted": true,
        "id": "FClSsdknKZWm"
      },
      "execution_count": 19,
      "outputs": []
    },
    {
      "cell_type": "code",
      "source": [
        "train = []\n",
        "valid = []\n",
        "\n",
        "best_valid_loss = float(\"inf\")\n",
        "\n",
        "for epoch in range(num_epochs):\n",
        "        train_loss = train_model(model, train_loader, optimizer, loss_fn, device)\n",
        "        valid_loss = evaluate(model, valid_loader, loss_fn, device)\n",
        "\n",
        "        train.append(train_loss)\n",
        "        valid.append(valid_loss)\n",
        "\n",
        "        if valid_loss < best_valid_loss:\n",
        "            data_str = f\"Valid loss improved from {best_valid_loss:2.4f} to {valid_loss:2.4f}. Saving checkpoint: {checkpoint_path}\"\n",
        "            print(data_str)\n",
        "\n",
        "            best_valid_loss = valid_loss\n",
        "            torch.save(model, checkpoint_path)\n",
        "\n",
        "        data_str = f'Epoch: {epoch+1:02}\\n'\n",
        "        data_str += f'\\tTrain Loss: {train_loss:.3f}\\n'\n",
        "        data_str += f'\\t Val. Loss: {valid_loss:.3f}\\n'\n",
        "        print(data_str)"
      ],
      "metadata": {
        "execution": {
          "iopub.status.busy": "2022-05-07T14:36:58.487851Z",
          "iopub.execute_input": "2022-05-07T14:36:58.488543Z",
          "iopub.status.idle": "2022-05-07T14:47:40.690261Z",
          "shell.execute_reply.started": "2022-05-07T14:36:58.488505Z",
          "shell.execute_reply": "2022-05-07T14:47:40.689439Z"
        },
        "trusted": true,
        "id": "ZX6fc1XnKZWn"
      },
      "execution_count": null,
      "outputs": []
    },
    {
      "cell_type": "code",
      "source": [
        "test_dataset = LoadData(test_X, test_y)\n",
        "test_loader = DataLoader(dataset=test_dataset, batch_size=2)"
      ],
      "metadata": {
        "execution": {
          "iopub.status.busy": "2022-05-07T14:53:03.603947Z",
          "iopub.execute_input": "2022-05-07T14:53:03.604245Z",
          "iopub.status.idle": "2022-05-07T14:53:03.608799Z",
          "shell.execute_reply.started": "2022-05-07T14:53:03.604212Z",
          "shell.execute_reply": "2022-05-07T14:53:03.608085Z"
        },
        "trusted": true,
        "id": "wlaLj-KfKZWn"
      },
      "execution_count": null,
      "outputs": []
    },
    {
      "cell_type": "code",
      "source": [
        "transform = transforms.ToPILImage()\n",
        "for x, y in test_loader:\n",
        "    image0 = transform(x[0])\n",
        "    image1 = transform(x[1])\n",
        "\n",
        "    x = x.to(device, dtype=torch.float32)\n",
        "    y = y.to(device, dtype=torch.float32)\n",
        "\n",
        "    y_pred = model(x)\n",
        "    img = y_pred.cpu().detach().numpy()\n",
        "    plt.figure(figsize=(30,8))\n",
        "\n",
        "    #subplot(r,c) provide the no. of rows and columns\n",
        "    f, axarr = plt.subplots(2,3)\n",
        "\n",
        "    axarr[0,0].imshow(image0)\n",
        "    axarr[0,1].imshow(np.squeeze(y.cpu().detach().numpy())[0], cmap='gray')\n",
        "    axarr[0,2].imshow(np.squeeze(img)[0], cmap='gray')\n",
        "\n",
        "    axarr[1,0].imshow(image1)\n",
        "    axarr[1,1].imshow(np.squeeze(y.cpu().detach().numpy())[1], cmap='gray')\n",
        "    axarr[1,2].imshow(np.squeeze(img)[1], cmap='gray')\n",
        "    break"
      ],
      "metadata": {
        "execution": {
          "iopub.status.busy": "2022-05-07T14:53:05.599847Z",
          "iopub.execute_input": "2022-05-07T14:53:05.600376Z",
          "iopub.status.idle": "2022-05-07T14:53:06.586867Z",
          "shell.execute_reply.started": "2022-05-07T14:53:05.600337Z",
          "shell.execute_reply": "2022-05-07T14:53:06.586131Z"
        },
        "trusted": true,
        "id": "KydQg_DJKZWn"
      },
      "execution_count": null,
      "outputs": []
    },
    {
      "cell_type": "code",
      "source": [
        "test_loss = evaluate(model, test_loader, loss_fn, device)"
      ],
      "metadata": {
        "execution": {
          "iopub.status.busy": "2022-05-07T14:53:15.340041Z",
          "iopub.execute_input": "2022-05-07T14:53:15.340728Z",
          "iopub.status.idle": "2022-05-07T14:53:16.139808Z",
          "shell.execute_reply.started": "2022-05-07T14:53:15.340693Z",
          "shell.execute_reply": "2022-05-07T14:53:16.139025Z"
        },
        "trusted": true,
        "id": "NXtjo6VTKZWn"
      },
      "execution_count": null,
      "outputs": []
    },
    {
      "cell_type": "code",
      "source": [
        "test_loss"
      ],
      "metadata": {
        "execution": {
          "iopub.status.busy": "2022-05-07T14:53:17.593217Z",
          "iopub.execute_input": "2022-05-07T14:53:17.593491Z",
          "iopub.status.idle": "2022-05-07T14:53:17.599895Z",
          "shell.execute_reply.started": "2022-05-07T14:53:17.59344Z",
          "shell.execute_reply": "2022-05-07T14:53:17.599088Z"
        },
        "trusted": true,
        "id": "wzjR5yqUKZWo"
      },
      "execution_count": null,
      "outputs": []
    },
    {
      "cell_type": "code",
      "source": [
        "import matplotlib.pyplot as plt\n",
        "import numpy as np\n",
        "import torch\n",
        "\n",
        "def visualize_predictions(model, loader, device, num_samples=5):\n",
        "    model.eval()  # Set model to evaluation mode\n",
        "    transform = transforms.ToPILImage()\n",
        "\n",
        "    with torch.no_grad():  # No need to compute gradients\n",
        "        for i, (x, y) in enumerate(loader):\n",
        "            if i >= num_samples:\n",
        "                break\n",
        "\n",
        "            # Move inputs to the appropriate device (CPU or GPU)\n",
        "            x = x.to(device, dtype=torch.float32)\n",
        "            y = y.to(device, dtype=torch.float32)\n",
        "\n",
        "            # Get model predictions\n",
        "            y_pred = model(x)\n",
        "            y_pred = torch.sigmoid(y_pred)  # Apply sigmoid for binary classification\n",
        "            y_pred = (y_pred > 0.5).float()  # Threshold to obtain binary mask\n",
        "\n",
        "            # Convert tensors to numpy arrays for visualization\n",
        "            images = x.cpu().detach().numpy()\n",
        "            true_masks = y.cpu().detach().numpy()\n",
        "            pred_masks = y_pred.cpu().detach().numpy()\n",
        "\n",
        "            # Plot the images, true masks, and predicted masks\n",
        "            for j in range(x.size(0)):  # Iterate over the batch\n",
        "                image = np.transpose(images[j], (1, 2, 0))  # Change from CHW to HWC format\n",
        "                true_mask = np.squeeze(true_masks[j])  # Squeeze to remove extra channel dimension\n",
        "                pred_mask = np.squeeze(pred_masks[j])  # Squeeze to remove extra channel dimension\n",
        "\n",
        "                plt.figure(figsize=(12, 4))\n",
        "\n",
        "                # Plot original image\n",
        "                plt.subplot(1, 3, 1)\n",
        "                plt.imshow(image)\n",
        "                plt.title('Original Image')\n",
        "                plt.axis('off')\n",
        "\n",
        "                # Plot ground truth mask\n",
        "                plt.subplot(1, 3, 2)\n",
        "                plt.imshow(true_mask, cmap='gray')\n",
        "                plt.title('True Mask')\n",
        "                plt.axis('off')\n",
        "\n",
        "                # Plot predicted mask\n",
        "                plt.subplot(1, 3, 3)\n",
        "                plt.imshow(pred_mask, cmap='gray')\n",
        "                plt.title('Predicted Mask')\n",
        "                plt.axis('off')\n",
        "\n",
        "                plt.show()\n",
        "\n",
        "# 將模型應用於部分測試集並可視化結果\n",
        "visualize_predictions(model, test_loader, device, num_samples=5)\n"
      ],
      "metadata": {
        "id": "jXVXsQY35YLB"
      },
      "execution_count": null,
      "outputs": []
    }
  ]
}